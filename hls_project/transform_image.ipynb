{
  "nbformat": 4,
  "nbformat_minor": 0,
  "metadata": {
    "colab": {
      "provenance": []
    },
    "kernelspec": {
      "name": "python3",
      "display_name": "Python 3"
    },
    "language_info": {
      "name": "python"
    }
  },
  "cells": [
    {
      "cell_type": "code",
      "source": [
        "!pip install opencv-python"
      ],
      "metadata": {
        "colab": {
          "base_uri": "https://localhost:8080/"
        },
        "id": "iMCLDsBqMDkS",
        "outputId": "b1fe4c33-eba5-48f4-81e4-f23f28e7c331"
      },
      "execution_count": null,
      "outputs": [
        {
          "output_type": "stream",
          "name": "stdout",
          "text": [
            "Requirement already satisfied: opencv-python in /usr/local/lib/python3.10/dist-packages (4.7.0.72)\n",
            "Requirement already satisfied: numpy>=1.21.2 in /usr/local/lib/python3.10/dist-packages (from opencv-python) (1.22.4)\n"
          ]
        }
      ]
    },
    {
      "cell_type": "code",
      "source": [
        "# run if you are in Colab environment\n",
        "from google.colab import drive\n",
        "drive.mount(\"/content/MyDrive\")\n",
        "\n",
        "import numpy as np\n",
        "from PIL import Image"
      ],
      "metadata": {
        "colab": {
          "base_uri": "https://localhost:8080/"
        },
        "id": "gHlr8iciFU51",
        "outputId": "5edb6f6d-92ce-4f69-9de7-382636851fae"
      },
      "execution_count": null,
      "outputs": [
        {
          "output_type": "stream",
          "name": "stdout",
          "text": [
            "Drive already mounted at /content/MyDrive; to attempt to forcibly remount, call drive.mount(\"/content/MyDrive\", force_remount=True).\n"
          ]
        }
      ]
    },
    {
      "cell_type": "code",
      "source": [
        "# change the paths accordingly\n",
        "path = \"/content/MyDrive/MyDrive/hell/\"\n",
        "# select the desired image\n",
        "image = \"ravi.jpg\""
      ],
      "metadata": {
        "id": "fmdKEypa0Fqr"
      },
      "execution_count": null,
      "outputs": []
    },
    {
      "cell_type": "markdown",
      "source": [
        "### Script 1"
      ],
      "metadata": {
        "id": "6653NtK-dgLU"
      }
    },
    {
      "cell_type": "markdown",
      "source": [
        "Μια RGB εικόνα την περνάει από Bayer φίλτρο\n",
        "\n",
        "- στο image_rgb.txt είναι τα rgb της εικόνας περασμένα σε txt για σύγκριση\n",
        "- στο image_8bit.txt η εικόνα έχει περάσει από το bayer φίλτρο, από τα RGB έχουμε κρατήσει μόνο αυτό που πρέπει και η τιμή έχει μετατραπεί σε binary\n"
      ],
      "metadata": {
        "id": "7Z66Bqs-7RFD"
      }
    },
    {
      "cell_type": "code",
      "source": [
        "input_image = Image.open(path + image)\n",
        "pixels = input_image.load()\n",
        "rows, columns = input_image.size\n",
        "\n",
        "print(\"rows: \", rows)\n",
        "print(\"columns: \", columns)\n",
        "\n",
        "if rows == 256 and columns == 256:\n",
        "  # print(\"Image needs to resize to: \", 256)\n",
        "\n",
        "  # input_image = input_image.resize((256, 256))\n",
        "  # input_image.save(path + image)\n",
        "\n",
        "  # pixels = input_image.load()\n",
        "\n",
        "  image_rgb_file = open(path + \"image_rgb.txt\", 'w')\n",
        "  image_8bit_file = open(path + \"image_8bit.txt\", 'w')\n",
        "\n",
        "  for y in range(columns):\n",
        "    for x in range(rows):\n",
        "      rgb = pixels[x, y]\n",
        "      rgb_to_string = str(rgb)\n",
        "      rgb_to_string = rgb_to_string.replace(\" \", \"\")\n",
        "      rgb_to_string = rgb_to_string + \" \"\n",
        "      image_rgb_file.write(rgb_to_string)\n",
        "\n",
        "      r = rgb[0]\n",
        "      g = rgb[1]\n",
        "      b = rgb[2]\n",
        "\n",
        "      r_to_bin = format(r, '08b')\n",
        "      g_to_bin = format(g, '08b')\n",
        "      b_to_bin = format(b, '08b')\n",
        "\n",
        "      if (y % 2) == 0 and (x % 2) == 0:\n",
        "        image_8bit_file.write(str(g_to_bin) + \" \")\n",
        "      elif (y % 2) == 0 and (x % 2) == 1:\n",
        "        image_8bit_file.write(str(b_to_bin) + \" \")\n",
        "      elif (y % 2) == 1 and (x % 2) == 0:\n",
        "        image_8bit_file.write(str(r_to_bin) + \" \")\n",
        "      elif (y % 2) == 1 and (x % 2) == 1:\n",
        "        image_8bit_file.write(str(g_to_bin) + \" \")\n",
        "\n",
        "    image_rgb_file.write('\\n')\n",
        "    image_8bit_file.write('\\n')\n",
        "\n",
        "  image_rgb_file.close()\n",
        "  image_8bit_file.close()\n",
        "else:\n",
        "  print(\"Error: Image must be of size 256x256\")"
      ],
      "metadata": {
        "id": "TGAqnuphd0gh",
        "colab": {
          "base_uri": "https://localhost:8080/"
        },
        "outputId": "7f91609a-324f-43d3-dbe8-dae5cbac72ef"
      },
      "execution_count": null,
      "outputs": [
        {
          "output_type": "stream",
          "name": "stdout",
          "text": [
            "rows:  256\n",
            "columns:  256\n"
          ]
        }
      ]
    },
    {
      "cell_type": "markdown",
      "source": [
        "### Script 2"
      ],
      "metadata": {
        "id": "g0pXC7IedjIk"
      }
    },
    {
      "cell_type": "markdown",
      "source": [
        "Διαβάζουμε το txt και από 8-bit μετατρέπουμε τις τιμές σε int και κάνουμε Debayering ώστε να βρούμε τις τιμές που λείπουν, παράγουμε τις νέες RGB τιμές."
      ],
      "metadata": {
        "id": "2YJbkxbp703V"
      }
    },
    {
      "cell_type": "code",
      "source": [
        "import math\n",
        "\n",
        "def write_line_to_file(file, pixels_line):\n",
        "    for pixel in pixels_line:\n",
        "      formatted_string =  str(pixel).replace(\" \", \"\")\n",
        "      file.write(formatted_string)\n",
        "      file.write(\" \")\n",
        "    file.write('\\n')\n",
        "\n",
        "file_8bit = open(path + \"image_8bit.txt\", \"r\")\n",
        "rgb_values_file = open(path + \"script_rgb_values.txt\", 'w')\n",
        "\n",
        "data = []\n",
        "for line in file_8bit:\n",
        "  row = []\n",
        "  values = line.split()\n",
        "\n",
        "  for value in values:\n",
        "    row.append(value)\n",
        "\n",
        "  data.append(row)\n",
        "\n",
        "file_8bit.close()\n",
        "pixels = []\n",
        "for row in range(1, 255):\n",
        "  pixel_line = []\n",
        "  starting_pixel = 0\n",
        "\n",
        "  for column in range(1, 255):\n",
        "\n",
        "    top_left = data[row-1][column-1]\n",
        "    top_middle = data[row-1][column]\n",
        "    top_right = data[row-1][column+1]\n",
        "\n",
        "    middle_left = data[row][column-1]\n",
        "    middle_middle = data[row][column]\n",
        "    middle_right = data[row][column+1]\n",
        "\n",
        "    bottom_left = data[row+1][column-1]\n",
        "    bottom_middle = data[row+1][column]\n",
        "    bottom_right = data[row+1][column+1]\n",
        "\n",
        "    if (row % 2) == 0 and (column % 2) == 0:\n",
        "      rgb = \"G\"\n",
        "    elif (row % 2) == 0 and (column % 2) == 1:\n",
        "      rgb = \"B\"\n",
        "    elif (row % 2) == 1 and (column % 2) == 0:\n",
        "      rgb = \"R\"\n",
        "    elif (row % 2) == 1 and (column % 2) == 1:\n",
        "      rgb = \"G\"\n",
        "\n",
        "    r = 0\n",
        "    g = 0\n",
        "    b = 0\n",
        "\n",
        "    if rgb == \"R\":\n",
        "      r = int(middle_middle, 2)\n",
        "      g = (int(top_middle, 2) + int(middle_left, 2) + int(middle_right, 2) + int(bottom_middle, 2)) / 4\n",
        "      b = (int(top_left, 2) + int(top_right, 2) + int(bottom_left, 2) + int(bottom_right, 2)) / 4\n",
        "    elif rgb == \"G\":\n",
        "      r = (int(middle_left, 2) + int(middle_right, 2)) / 2\n",
        "      g = int(middle_middle, 2)\n",
        "      b = (int(top_middle, 2) + int(bottom_middle, 2)) / 2\n",
        "    elif rgb == \"B\":\n",
        "      r = (int(top_left, 2) + int(top_right, 2) + int(bottom_left, 2) + int(bottom_right, 2)) / 4\n",
        "      g = (int(top_middle, 2) + int(middle_left, 2) + int(middle_right, 2) + int(bottom_middle, 2)) / 4\n",
        "      b = int(middle_middle, 2)\n",
        "\n",
        "\n",
        "    r = math.floor(r)\n",
        "    g = math.floor(g)\n",
        "    b = math.floor(b)\n",
        "\n",
        "    pixel = (r,g,b)\n",
        "\n",
        "    if (column == 1):\n",
        "      starting_pixel = pixel\n",
        "\n",
        "    pixel_line.append(pixel)\n",
        "\n",
        "  pixel_line.insert(0, starting_pixel)\n",
        "  pixel_line.append(pixel_line[254])\n",
        "\n",
        "  pixels.append(pixel_line)\n",
        "\n",
        "  if(row == 1):\n",
        "    pixels.insert(0, pixel_line)\n",
        "    write_line_to_file(rgb_values_file, pixel_line)\n",
        "  if(row == 254):\n",
        "    pixels.append(pixel_line)\n",
        "    write_line_to_file(rgb_values_file, pixel_line)\n",
        "\n",
        "\n",
        "  write_line_to_file(rgb_values_file, pixel_line)\n",
        "\n",
        "\n",
        "array = np.array(pixels, dtype=np.uint8)\n",
        "\n",
        "output_image = Image.fromarray(array)\n",
        "output_image.save(path + \"script_image.png\")\n",
        "\n",
        "rgb_values_file.close()\n"
      ],
      "metadata": {
        "id": "EpFHSqOS3uw5"
      },
      "execution_count": null,
      "outputs": []
    },
    {
      "cell_type": "markdown",
      "source": [
        "### Script 3"
      ],
      "metadata": {
        "id": "IPHTX21SdlC0"
      }
    },
    {
      "cell_type": "markdown",
      "source": [
        "Οι RGB τιμές έχουν ήδη βρεθεί από κώδικα της C και πέρνουμε το παραγμένο RGB txt και φτιάχνουμε την εικόνα που προκύπτει"
      ],
      "metadata": {
        "id": "TUHmiscD8JEL"
      }
    },
    {
      "cell_type": "code",
      "source": [
        "output = open(path + \"output.txt\", \"r\")\n",
        "\n",
        "output_data = []\n",
        "for line in output:\n",
        "  row = []\n",
        "  values = line.split()\n",
        "\n",
        "  for value in values:\n",
        "    value = value.replace('(', '')\n",
        "    value = value.replace(')', '')\n",
        "\n",
        "    pixel = tuple(map(int, value.split(',')))\n",
        "    row.append(pixel)\n",
        "\n",
        "  output_data.append(row)\n",
        "\n",
        "output.close()\n",
        "\n",
        "array = np.array(output_data, dtype=np.uint8)\n",
        "\n",
        "output_image = Image.fromarray(array)\n",
        "output_image.save(path + \"image_output.png\")"
      ],
      "metadata": {
        "id": "BooGaVRl2oVK"
      },
      "execution_count": null,
      "outputs": []
    }
  ]
}